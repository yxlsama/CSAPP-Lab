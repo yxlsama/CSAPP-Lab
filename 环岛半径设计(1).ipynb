{
 "cells": [
  {
   "cell_type": "code",
   "execution_count": 82,
   "id": "5f131666",
   "metadata": {},
   "outputs": [],
   "source": [
    "import numpy as np\n",
    "import pandas as pd\n",
    "import matplotlib.pyplot as plt\n",
    "import xlrd"
   ]
  },
  {
   "cell_type": "code",
   "execution_count": 83,
   "id": "67180884",
   "metadata": {},
   "outputs": [],
   "source": [
    "l=11.965          #l——交织段长度（m）\n",
    "e1=7.935          #e——环交入口引道平均宽度（m）；e1——入口引道宽度（m）；e2——环道突出部分宽度（m）\n",
    "p=0.5             #P——交织段内进行交织的车辆与全部车辆之比"
   ]
  },
  {
   "cell_type": "code",
   "execution_count": 84,
   "id": "d5aa74d5",
   "metadata": {},
   "outputs": [],
   "source": [
    "w=(16.38-x*2)/2  #W——交织段宽度（m）\n",
    "e2=(17.74-x*2)/2\n",
    "e=(e1+e2)/2\n",
    "q=280*w*(1+e/w)*(1-p/3)/(1+w/l)"
   ]
  },
  {
   "cell_type": "code",
   "execution_count": 89,
   "id": "c192c260",
   "metadata": {
    "scrolled": true
   },
   "outputs": [
    {
     "data": {
      "image/png": "[encoded data removed]",
      "text/plain": [
       "<Figure size 640x480 with 1 Axes>"
      ]
     },
     "metadata": {},
     "output_type": "display_data"
    }
   ],
   "source": [
    "fig = plt.figure()\n",
    "\n",
    "x = np.arange(0.0, 4.0, 0.1)\n",
    "y = 280*((16.38-x*2)/2+(17.74-x*2)/4+e1/2)*(1-p/3)/(1+(16.38-x*2)/(2*l))\n",
    "\n",
    "plt.plot(x, y, color='red')\n",
    "plt.title(u\"Q-R\")\n",
    "plt.xlabel(\"R\", size=17)\n",
    "plt.ylabel(\"Q\")\n",
    "plt.show()"
   ]
  },
  {
   "cell_type": "code",
   "execution_count": 90,
   "id": "26b72396",
   "metadata": {},
   "outputs": [
    {
     "data": {
      "text/plain": [
       "2146.441682301438"
      ]
     },
     "execution_count": 90,
     "metadata": {},
     "output_type": "execute_result"
    }
   ],
   "source": [
    "r=1.5\n",
    "\n",
    "l=11.965\n",
    "e1=7.935\n",
    "p=0.5\n",
    "\n",
    "w=(16.38-r*2)/2\n",
    "e2=(17.74-r*2)/2\n",
    "e=(e1+e2)/2\n",
    "q=280*w*(1+e/w)*(1-p/3)/(1+w/l)\n",
    "\n",
    "q"
   ]
  },
  {
   "cell_type": "code",
   "execution_count": 91,
   "id": "81cc3fc1",
   "metadata": {},
   "outputs": [
    {
     "data": {
      "text/plain": [
       "2090.222780684843"
      ]
     },
     "execution_count": 91,
     "metadata": {},
     "output_type": "execute_result"
    }
   ],
   "source": [
    "r=2.0\n",
    "\n",
    "l=11.965\n",
    "e1=7.935\n",
    "p=0.5\n",
    "\n",
    "w=(16.38-r*2)/2\n",
    "e2=(17.74-r*2)/2\n",
    "e=(e1+e2)/2\n",
    "q=280*w*(1+e/w)*(1-p/3)/(1+w/l)\n",
    "\n",
    "q"
   ]
  },
  {
   "cell_type": "code",
   "execution_count": 88,
   "id": "bf124be7",
   "metadata": {},
   "outputs": [
    {
     "data": {
      "text/plain": [
       "2030.8195742471444"
      ]
     },
     "execution_count": 88,
     "metadata": {},
     "output_type": "execute_result"
    }
   ],
   "source": [
    "r=2.5\n",
    "\n",
    "l=11.965\n",
    "e1=7.935\n",
    "p=0.5\n",
    "\n",
    "w=(16.38-r*2)/2\n",
    "e2=(17.74-r*2)/2\n",
    "e=(e1+e2)/2\n",
    "q=280*w*(1+e/w)*(1-p/3)/(1+w/l)\n",
    "\n",
    "q"
   ]
  },
  {
   "cell_type": "code",
   "execution_count": null,
   "id": "d5fd5cd7",
   "metadata": {},
   "outputs": [],
   "source": []
  }
 ],
 "metadata": {
  "kernelspec": {
   "display_name": "Python 3 (ipykernel)",
   "language": "python",
   "name": "python3"
  },
  "language_info": {
   "codemirror_mode": {
    "name": "ipython",
    "version": 3
   },
   "file_extension": ".py",
   "mimetype": "text/x-python",
   "name": "python",
   "nbconvert_exporter": "python",
   "pygments_lexer": "ipython3",
   "version": "3.10.7"
  }
 },
 "nbformat": 4,
 "nbformat_minor": 5
}
